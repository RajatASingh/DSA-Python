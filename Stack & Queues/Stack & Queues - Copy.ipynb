{
 "cells": [
  {
   "attachments": {
    "ds-stack3.png": {
     "image/png": "[encoded data removed]"
    }
   },
   "cell_type": "markdown",
   "id": "5801188d",
   "metadata": {},
   "source": [
    "# Stack\n",
    " \n",
    "Stack is a linear data structure. **Which follows last in first out** principle.\n",
    " \n",
    "**Meaning of last in first out:** It means the lastly inserted element will get remove first.\n",
    "\n",
    "**Note:** In programing terminology insert means push.\n",
    "\n",
    "### Operations in stack:\n",
    "1. Push\n",
    "2. Pop\n",
    "3. isempty()\n",
    "4. isFull()\n",
    "5. Peek()\n",
    "\n",
    "\n",
    "### Let's talk about initial operations of a stack:\n",
    "\n",
    "1. **Push() :** Onece i will call this function or operation what will happen it will create a new element into the stack.\n",
    "\n",
    "2. **Pop() :** What will happen when i will call this operation pop! Pop will delete an element from the stack.\n",
    "\n",
    "3. **Isempty :** It check that a stack is empty or not.\n",
    "\n",
    "4. **Isfull :** It check that a stack is full or not. Initialy I will give a max size to a stack for example **5** so what it will do whenever I'll try to push **6th** element inside it! it will show as full.\n",
    "\n",
    "5. **Peek:** In this case I am going to return the top most element.\n",
    "\n",
    "\n",
    "### Working of stack Data Structure:\n",
    "\n",
    "1. Let's say i have a stack! Initialy my stack is empty.\n",
    "2. Lets's asume the max size of this stack is **5**\n",
    "3. When my stack is empty I'm going to represent a pointer called **Top**. Top is representing what is my top element in the stack.\n",
    "4. Right now the stack is empty So I'm going to give the value to the top is -1. Because i am going to implemetn the value of stack using array so the index will start from 0.\n",
    "5. Now if i will say push(10). So what will hqppen it is going to insert an element inside the stack and top will point to the 0 & stack[top] is 10. \n",
    "6. Again i am going to perform one more operation push(20). What will happen now my top will became **top:1** and top of stack will point to the 20.\n",
    "7. So now when i will perform pop() operation it will going to delete 20 first. AS per the principle of stack **LIFO**.\n",
    "8. **Note:** Whenever you are going to perform push or pop you need to check corner cases first.\n",
    "      * Because it the stack have already reched its max size and you will try to push an element inside it it will give an error. So to avoid this you shoild allways check **isfull()** operation before inserting.\n",
    "      * Same is with pop suppose a stack is empty and you are trying to perform pop operation on it. It will give you error. so always try **isempty()** operation before performing pop().\n",
    "      \n",
    "9. We can initialize a stack by using a data structure called list or an array.\n",
    "\n",
    "##### SEE BELOW IMAGE FOR BETTER UNDERSTANDING:\n",
    "![ds-stack3.png](attachment:ds-stack3.png)\n",
    "\n",
    "See the link to understand it better :https://www.programiz.com/dsa/stack\n",
    "\n",
    "### Python code for Stack:\n",
    "\n"
   ]
  },
  {
   "cell_type": "code",
   "execution_count": 29,
   "id": "ba62de68",
   "metadata": {},
   "outputs": [
    {
     "data": {
      "text/plain": [
       "[8, 7, 9]"
      ]
     },
     "execution_count": 29,
     "metadata": {},
     "output_type": "execute_result"
    }
   ],
   "source": [
    "class Stack:\n",
    "    \n",
    "    def __init__(self,maxSize = 10 ):\n",
    "        self.stack = []\n",
    "        self.maxSize = maxSize\n",
    "        \n",
    "    def isFull(self):\n",
    "        return   len(self.stack) == self.maxSize\n",
    "    \n",
    "    def isEmpty(self):\n",
    "        return len(self.stack) ==0\n",
    "    \n",
    "    def push(self, ele):\n",
    "        if self.isFull():\n",
    "            print(\"stack overflow\")\n",
    "        else:\n",
    "            self.stack.append(ele)\n",
    "            \n",
    "    def pop(self):\n",
    "        if self.isEmpty():\n",
    "            print(\"Stack is underflow\")\n",
    "        else:\n",
    "            self.stack.pop()\n",
    "            \n",
    "A = Stack(5)\n",
    "A.push(8)\n",
    "A.push(7)\n",
    "A.push(9)\n",
    "\n",
    "A.stack\n"
   ]
  },
  {
   "cell_type": "markdown",
   "id": "91fbba1a",
   "metadata": {},
   "source": [
    "## Checking Correct Parantheses:\n",
    "\n",
    "### Code for checking parantheses."
   ]
  },
  {
   "cell_type": "code",
   "execution_count": 5,
   "id": "8c3ee900",
   "metadata": {},
   "outputs": [
    {
     "data": {
      "text/plain": [
       "False"
      ]
     },
     "execution_count": 5,
     "metadata": {},
     "output_type": "execute_result"
    }
   ],
   "source": [
    "class Parantheses:\n",
    "    \n",
    "    def __init__(self):\n",
    "        self.stack = []\n",
    "        \n",
    "    def check(self, ele):\n",
    "        for i in range(len(ele)):\n",
    "            if ele[i] == '(' or ele[i] == \"[\":\n",
    "                self.stack.append(ele[i])\n",
    "                continue\n",
    "            if len(self.stack) == 0:\n",
    "                return False\n",
    "            \n",
    "            char = self.stack.pop()\n",
    "            \n",
    "            if ele[i] == \")\":\n",
    "                if char != \"(\":\n",
    "                    return False\n",
    "                \n",
    "            if ele[i] == \"]\":\n",
    "                if char != \"[\":\n",
    "                    return False \n",
    "        if len(self.stack):\n",
    "            return False\n",
    "        return True\n",
    "\n",
    "A = Parantheses()\n",
    "A.check('(()[]')"
   ]
  },
  {
   "attachments": {
    "Queue.png": {
     "image/png": "[encoded data removed]"
    }
   },
   "cell_type": "markdown",
   "id": "2d36ee1d",
   "metadata": {},
   "source": [
    "## Queue\n",
    "\n",
    "It is a linear data structure. Which follows the principle of first in first out.\n",
    "\n",
    "**For Example:** Some member are waiting for bus in a queue. So in this case whenever the bus come the first one will enter first and so on.\n",
    "\n",
    "#### Operation of a Queue:\n",
    "\n",
    "1. **Enqueue :** Enqueue means inserting an element in a queue.\n",
    "2. **DeQueue :** It means delete an element from a queue.\n",
    "3. **Isempty :** It show that a queue is empty or not.\n",
    "4. **IsFull :** It shows that a queue is full or not.\n",
    "\n",
    "## Working of a Queue:\n",
    "\n",
    "\n",
    "\n",
    "\n",
    "![Queue.png](attachment:Queue.png)"
   ]
  },
  {
   "cell_type": "code",
   "execution_count": null,
   "id": "6bf0d871",
   "metadata": {},
   "outputs": [],
   "source": []
  }
 ],
 "metadata": {
  "kernelspec": {
   "display_name": "Python 3 (ipykernel)",
   "language": "python",
   "name": "python3"
  },
  "language_info": {
   "codemirror_mode": {
    "name": "ipython",
    "version": 3
   },
   "file_extension": ".py",
   "mimetype": "text/x-python",
   "name": "python",
   "nbconvert_exporter": "python",
   "pygments_lexer": "ipython3",
   "version": "3.9.13"
  },
  "varInspector": {
   "cols": {
    "lenName": 16,
    "lenType": 16,
    "lenVar": 40
   },
   "kernels_config": {
    "python": {
     "delete_cmd_postfix": "",
     "delete_cmd_prefix": "del ",
     "library": "var_list.py",
     "varRefreshCmd": "print(var_dic_list())"
    },
    "r": {
     "delete_cmd_postfix": ") ",
     "delete_cmd_prefix": "rm(",
     "library": "var_list.r",
     "varRefreshCmd": "cat(var_dic_list()) "
    }
   },
   "types_to_exclude": [
    "module",
    "function",
    "builtin_function_or_method",
    "instance",
    "_Feature"
   ],
   "window_display": false
  }
 },
 "nbformat": 4,
 "nbformat_minor": 5
}
